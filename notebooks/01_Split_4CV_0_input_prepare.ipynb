{
 "cells": [
  {
   "cell_type": "code",
   "execution_count": 5,
   "id": "12a7c2fb",
   "metadata": {},
   "outputs": [],
   "source": [
    "import os\n",
    "import numpy as np\n",
    "import pandas as pd\n",
    "from sklearn.decomposition import PCA\n",
    "from sklearn.preprocessing import StandardScaler"
   ]
  },
  {
   "cell_type": "code",
   "execution_count": 6,
   "id": "6944932b",
   "metadata": {},
   "outputs": [],
   "source": [
    "## Create and Set Directory\n",
    "\n",
    "run_dir = '../Split_4CV_0_outputs_test'\n",
    "os.makedirs(run_dir, exist_ok=True)\n",
    "os.chdir(run_dir)"
   ]
  },
  {
   "cell_type": "code",
   "execution_count": 4,
   "id": "6e5eda81",
   "metadata": {
    "collapsed": true
   },
   "outputs": [
    {
     "ename": "FileNotFoundError",
     "evalue": "[Errno 2] No such file or directory: '../data_final_modelInn_oldnot_filtered_processed.csv'",
     "output_type": "error",
     "traceback": [
      "\u001b[0;31m---------------------------------------------------------------------------\u001b[0m",
      "\u001b[0;31mFileNotFoundError\u001b[0m                         Traceback (most recent call last)",
      "\u001b[0;32m<ipython-input-4-65034ffebf88>\u001b[0m in \u001b[0;36m<module>\u001b[0;34m\u001b[0m\n\u001b[1;32m      1\u001b[0m \u001b[0;31m## Loading dataset\u001b[0m\u001b[0;34m\u001b[0m\u001b[0;34m\u001b[0m\u001b[0;34m\u001b[0m\u001b[0m\n\u001b[1;32m      2\u001b[0m \u001b[0;34m\u001b[0m\u001b[0m\n\u001b[0;32m----> 3\u001b[0;31m \u001b[0mdf\u001b[0m \u001b[0;34m=\u001b[0m \u001b[0mpd\u001b[0m\u001b[0;34m.\u001b[0m\u001b[0mread_csv\u001b[0m\u001b[0;34m(\u001b[0m\u001b[0;34m\"../data_final_modelInn_oldnot_filtered_processed.csv\"\u001b[0m\u001b[0;34m,\u001b[0m\u001b[0mindex_col\u001b[0m\u001b[0;34m=\u001b[0m\u001b[0;36m0\u001b[0m\u001b[0;34m)\u001b[0m\u001b[0;34m\u001b[0m\u001b[0;34m\u001b[0m\u001b[0m\n\u001b[0m",
      "\u001b[0;32m~/anaconda3/lib/python3.8/site-packages/pandas/io/parsers.py\u001b[0m in \u001b[0;36mread_csv\u001b[0;34m(filepath_or_buffer, sep, delimiter, header, names, index_col, usecols, squeeze, prefix, mangle_dupe_cols, dtype, engine, converters, true_values, false_values, skipinitialspace, skiprows, skipfooter, nrows, na_values, keep_default_na, na_filter, verbose, skip_blank_lines, parse_dates, infer_datetime_format, keep_date_col, date_parser, dayfirst, cache_dates, iterator, chunksize, compression, thousands, decimal, lineterminator, quotechar, quoting, doublequote, escapechar, comment, encoding, dialect, error_bad_lines, warn_bad_lines, delim_whitespace, low_memory, memory_map, float_precision, storage_options)\u001b[0m\n\u001b[1;32m    608\u001b[0m     \u001b[0mkwds\u001b[0m\u001b[0;34m.\u001b[0m\u001b[0mupdate\u001b[0m\u001b[0;34m(\u001b[0m\u001b[0mkwds_defaults\u001b[0m\u001b[0;34m)\u001b[0m\u001b[0;34m\u001b[0m\u001b[0;34m\u001b[0m\u001b[0m\n\u001b[1;32m    609\u001b[0m \u001b[0;34m\u001b[0m\u001b[0m\n\u001b[0;32m--> 610\u001b[0;31m     \u001b[0;32mreturn\u001b[0m \u001b[0m_read\u001b[0m\u001b[0;34m(\u001b[0m\u001b[0mfilepath_or_buffer\u001b[0m\u001b[0;34m,\u001b[0m \u001b[0mkwds\u001b[0m\u001b[0;34m)\u001b[0m\u001b[0;34m\u001b[0m\u001b[0;34m\u001b[0m\u001b[0m\n\u001b[0m\u001b[1;32m    611\u001b[0m \u001b[0;34m\u001b[0m\u001b[0m\n\u001b[1;32m    612\u001b[0m \u001b[0;34m\u001b[0m\u001b[0m\n",
      "\u001b[0;32m~/anaconda3/lib/python3.8/site-packages/pandas/io/parsers.py\u001b[0m in \u001b[0;36m_read\u001b[0;34m(filepath_or_buffer, kwds)\u001b[0m\n\u001b[1;32m    460\u001b[0m \u001b[0;34m\u001b[0m\u001b[0m\n\u001b[1;32m    461\u001b[0m     \u001b[0;31m# Create the parser.\u001b[0m\u001b[0;34m\u001b[0m\u001b[0;34m\u001b[0m\u001b[0;34m\u001b[0m\u001b[0m\n\u001b[0;32m--> 462\u001b[0;31m     \u001b[0mparser\u001b[0m \u001b[0;34m=\u001b[0m \u001b[0mTextFileReader\u001b[0m\u001b[0;34m(\u001b[0m\u001b[0mfilepath_or_buffer\u001b[0m\u001b[0;34m,\u001b[0m \u001b[0;34m**\u001b[0m\u001b[0mkwds\u001b[0m\u001b[0;34m)\u001b[0m\u001b[0;34m\u001b[0m\u001b[0;34m\u001b[0m\u001b[0m\n\u001b[0m\u001b[1;32m    463\u001b[0m \u001b[0;34m\u001b[0m\u001b[0m\n\u001b[1;32m    464\u001b[0m     \u001b[0;32mif\u001b[0m \u001b[0mchunksize\u001b[0m \u001b[0;32mor\u001b[0m \u001b[0miterator\u001b[0m\u001b[0;34m:\u001b[0m\u001b[0;34m\u001b[0m\u001b[0;34m\u001b[0m\u001b[0m\n",
      "\u001b[0;32m~/anaconda3/lib/python3.8/site-packages/pandas/io/parsers.py\u001b[0m in \u001b[0;36m__init__\u001b[0;34m(self, f, engine, **kwds)\u001b[0m\n\u001b[1;32m    817\u001b[0m             \u001b[0mself\u001b[0m\u001b[0;34m.\u001b[0m\u001b[0moptions\u001b[0m\u001b[0;34m[\u001b[0m\u001b[0;34m\"has_index_names\"\u001b[0m\u001b[0;34m]\u001b[0m \u001b[0;34m=\u001b[0m \u001b[0mkwds\u001b[0m\u001b[0;34m[\u001b[0m\u001b[0;34m\"has_index_names\"\u001b[0m\u001b[0;34m]\u001b[0m\u001b[0;34m\u001b[0m\u001b[0;34m\u001b[0m\u001b[0m\n\u001b[1;32m    818\u001b[0m \u001b[0;34m\u001b[0m\u001b[0m\n\u001b[0;32m--> 819\u001b[0;31m         \u001b[0mself\u001b[0m\u001b[0;34m.\u001b[0m\u001b[0m_engine\u001b[0m \u001b[0;34m=\u001b[0m \u001b[0mself\u001b[0m\u001b[0;34m.\u001b[0m\u001b[0m_make_engine\u001b[0m\u001b[0;34m(\u001b[0m\u001b[0mself\u001b[0m\u001b[0;34m.\u001b[0m\u001b[0mengine\u001b[0m\u001b[0;34m)\u001b[0m\u001b[0;34m\u001b[0m\u001b[0;34m\u001b[0m\u001b[0m\n\u001b[0m\u001b[1;32m    820\u001b[0m \u001b[0;34m\u001b[0m\u001b[0m\n\u001b[1;32m    821\u001b[0m     \u001b[0;32mdef\u001b[0m \u001b[0mclose\u001b[0m\u001b[0;34m(\u001b[0m\u001b[0mself\u001b[0m\u001b[0;34m)\u001b[0m\u001b[0;34m:\u001b[0m\u001b[0;34m\u001b[0m\u001b[0;34m\u001b[0m\u001b[0m\n",
      "\u001b[0;32m~/anaconda3/lib/python3.8/site-packages/pandas/io/parsers.py\u001b[0m in \u001b[0;36m_make_engine\u001b[0;34m(self, engine)\u001b[0m\n\u001b[1;32m   1048\u001b[0m             )\n\u001b[1;32m   1049\u001b[0m         \u001b[0;31m# error: Too many arguments for \"ParserBase\"\u001b[0m\u001b[0;34m\u001b[0m\u001b[0;34m\u001b[0m\u001b[0;34m\u001b[0m\u001b[0m\n\u001b[0;32m-> 1050\u001b[0;31m         \u001b[0;32mreturn\u001b[0m \u001b[0mmapping\u001b[0m\u001b[0;34m[\u001b[0m\u001b[0mengine\u001b[0m\u001b[0;34m]\u001b[0m\u001b[0;34m(\u001b[0m\u001b[0mself\u001b[0m\u001b[0;34m.\u001b[0m\u001b[0mf\u001b[0m\u001b[0;34m,\u001b[0m \u001b[0;34m**\u001b[0m\u001b[0mself\u001b[0m\u001b[0;34m.\u001b[0m\u001b[0moptions\u001b[0m\u001b[0;34m)\u001b[0m  \u001b[0;31m# type: ignore[call-arg]\u001b[0m\u001b[0;34m\u001b[0m\u001b[0;34m\u001b[0m\u001b[0m\n\u001b[0m\u001b[1;32m   1051\u001b[0m \u001b[0;34m\u001b[0m\u001b[0m\n\u001b[1;32m   1052\u001b[0m     \u001b[0;32mdef\u001b[0m \u001b[0m_failover_to_python\u001b[0m\u001b[0;34m(\u001b[0m\u001b[0mself\u001b[0m\u001b[0;34m)\u001b[0m\u001b[0;34m:\u001b[0m\u001b[0;34m\u001b[0m\u001b[0;34m\u001b[0m\u001b[0m\n",
      "\u001b[0;32m~/anaconda3/lib/python3.8/site-packages/pandas/io/parsers.py\u001b[0m in \u001b[0;36m__init__\u001b[0;34m(self, src, **kwds)\u001b[0m\n\u001b[1;32m   1865\u001b[0m \u001b[0;34m\u001b[0m\u001b[0m\n\u001b[1;32m   1866\u001b[0m         \u001b[0;31m# open handles\u001b[0m\u001b[0;34m\u001b[0m\u001b[0;34m\u001b[0m\u001b[0;34m\u001b[0m\u001b[0m\n\u001b[0;32m-> 1867\u001b[0;31m         \u001b[0mself\u001b[0m\u001b[0;34m.\u001b[0m\u001b[0m_open_handles\u001b[0m\u001b[0;34m(\u001b[0m\u001b[0msrc\u001b[0m\u001b[0;34m,\u001b[0m \u001b[0mkwds\u001b[0m\u001b[0;34m)\u001b[0m\u001b[0;34m\u001b[0m\u001b[0;34m\u001b[0m\u001b[0m\n\u001b[0m\u001b[1;32m   1868\u001b[0m         \u001b[0;32massert\u001b[0m \u001b[0mself\u001b[0m\u001b[0;34m.\u001b[0m\u001b[0mhandles\u001b[0m \u001b[0;32mis\u001b[0m \u001b[0;32mnot\u001b[0m \u001b[0;32mNone\u001b[0m\u001b[0;34m\u001b[0m\u001b[0;34m\u001b[0m\u001b[0m\n\u001b[1;32m   1869\u001b[0m         \u001b[0;32mfor\u001b[0m \u001b[0mkey\u001b[0m \u001b[0;32min\u001b[0m \u001b[0;34m(\u001b[0m\u001b[0;34m\"storage_options\"\u001b[0m\u001b[0;34m,\u001b[0m \u001b[0;34m\"encoding\"\u001b[0m\u001b[0;34m,\u001b[0m \u001b[0;34m\"memory_map\"\u001b[0m\u001b[0;34m,\u001b[0m \u001b[0;34m\"compression\"\u001b[0m\u001b[0;34m)\u001b[0m\u001b[0;34m:\u001b[0m\u001b[0;34m\u001b[0m\u001b[0;34m\u001b[0m\u001b[0m\n",
      "\u001b[0;32m~/anaconda3/lib/python3.8/site-packages/pandas/io/parsers.py\u001b[0m in \u001b[0;36m_open_handles\u001b[0;34m(self, src, kwds)\u001b[0m\n\u001b[1;32m   1360\u001b[0m         \u001b[0mLet\u001b[0m \u001b[0mthe\u001b[0m \u001b[0mreaders\u001b[0m \u001b[0mopen\u001b[0m \u001b[0mIOHanldes\u001b[0m \u001b[0mafter\u001b[0m \u001b[0mthey\u001b[0m \u001b[0mare\u001b[0m \u001b[0mdone\u001b[0m \u001b[0;32mwith\u001b[0m \u001b[0mtheir\u001b[0m \u001b[0mpotential\u001b[0m \u001b[0mraises\u001b[0m\u001b[0;34m.\u001b[0m\u001b[0;34m\u001b[0m\u001b[0;34m\u001b[0m\u001b[0m\n\u001b[1;32m   1361\u001b[0m         \"\"\"\n\u001b[0;32m-> 1362\u001b[0;31m         self.handles = get_handle(\n\u001b[0m\u001b[1;32m   1363\u001b[0m             \u001b[0msrc\u001b[0m\u001b[0;34m,\u001b[0m\u001b[0;34m\u001b[0m\u001b[0;34m\u001b[0m\u001b[0m\n\u001b[1;32m   1364\u001b[0m             \u001b[0;34m\"r\"\u001b[0m\u001b[0;34m,\u001b[0m\u001b[0;34m\u001b[0m\u001b[0;34m\u001b[0m\u001b[0m\n",
      "\u001b[0;32m~/anaconda3/lib/python3.8/site-packages/pandas/io/common.py\u001b[0m in \u001b[0;36mget_handle\u001b[0;34m(path_or_buf, mode, encoding, compression, memory_map, is_text, errors, storage_options)\u001b[0m\n\u001b[1;32m    640\u001b[0m                 \u001b[0merrors\u001b[0m \u001b[0;34m=\u001b[0m \u001b[0;34m\"replace\"\u001b[0m\u001b[0;34m\u001b[0m\u001b[0;34m\u001b[0m\u001b[0m\n\u001b[1;32m    641\u001b[0m             \u001b[0;31m# Encoding\u001b[0m\u001b[0;34m\u001b[0m\u001b[0;34m\u001b[0m\u001b[0;34m\u001b[0m\u001b[0m\n\u001b[0;32m--> 642\u001b[0;31m             handle = open(\n\u001b[0m\u001b[1;32m    643\u001b[0m                 \u001b[0mhandle\u001b[0m\u001b[0;34m,\u001b[0m\u001b[0;34m\u001b[0m\u001b[0;34m\u001b[0m\u001b[0m\n\u001b[1;32m    644\u001b[0m                 \u001b[0mioargs\u001b[0m\u001b[0;34m.\u001b[0m\u001b[0mmode\u001b[0m\u001b[0;34m,\u001b[0m\u001b[0;34m\u001b[0m\u001b[0;34m\u001b[0m\u001b[0m\n",
      "\u001b[0;31mFileNotFoundError\u001b[0m: [Errno 2] No such file or directory: '../data_final_modelInn_oldnot_filtered_processed.csv'"
     ]
    }
   ],
   "source": [
    "## Loading dataset\n",
    "\n",
    "df = pd.read_csv(\"../data_final_modelInn_oldnot_filtered_processed.csv\",index_col=0)"
   ]
  },
  {
   "cell_type": "code",
   "execution_count": null,
   "id": "26c02b8e",
   "metadata": {},
   "outputs": [],
   "source": [
    "## Defining metadata\n",
    "\n",
    "metadata_col = ['Model','Tumor','Treatment']\n",
    "response_col = ['BestResCatCalc']\n",
    "df_meta = df[metadata_col + response_col]\n",
    "df_meta.shape"
   ]
  },
  {
   "cell_type": "code",
   "execution_count": null,
   "id": "3b24a281",
   "metadata": {},
   "outputs": [],
   "source": [
    "## Custom functions\n",
    "\n",
    "def column_counter(df):\n",
    "    counts = {keyword: 0 for keyword in [\"_cna_\", \"_snv_\", \"_gex_\", \"_cnum_\", \"Tr_\", \"Tumor_\"]}\n",
    "    for col in df.columns:\n",
    "        for keyword in counts:\n",
    "            if keyword in col:\n",
    "                counts[keyword] += 1\n",
    "                break\n",
    "        else: print(col)\n",
    "    return print(*(counts.values()))"
   ]
  },
  {
   "cell_type": "markdown",
   "id": "98e020a7",
   "metadata": {},
   "source": [
    "# Preprocessing dataset"
   ]
  },
  {
   "cell_type": "code",
   "execution_count": null,
   "id": "cc0e4a2c",
   "metadata": {},
   "outputs": [],
   "source": [
    "## Cleaning data of non-feature columns\n",
    "\n",
    "df_train = df.drop(metadata_col+response_col, axis=1)\n",
    "print(df.shape, df_train.shape)"
   ]
  },
  {
   "cell_type": "code",
   "execution_count": null,
   "id": "7744e79c",
   "metadata": {},
   "outputs": [],
   "source": [
    "column_counter(df_train)\n",
    "\n",
    "#14220 + 13366 + 21107 +23852 +19 +5"
   ]
  },
  {
   "cell_type": "code",
   "execution_count": null,
   "id": "02b8cf1c",
   "metadata": {},
   "outputs": [],
   "source": [
    "## Cleaning data of cols with zero std\n",
    "\n",
    "df_train = df_train[df_train.columns[np.where(df_train.std()!=0)]]\n",
    "print(df_train.shape)\n",
    "#72569 cols - hence no col dropped"
   ]
  },
  {
   "cell_type": "markdown",
   "id": "471a1c01",
   "metadata": {},
   "source": [
    "# PCA Preprocessing"
   ]
  },
  {
   "cell_type": "code",
   "execution_count": null,
   "id": "fa508b7c",
   "metadata": {},
   "outputs": [],
   "source": [
    "## Cleaning data of non-molecular features\n",
    "\n",
    "treatment_cols = [col for col in df_train.columns if col.startswith('Tr_')]\n",
    "tumor_cols = [col for col in df_train.columns if col.startswith('Tumor_')]\n",
    "\n",
    "df_train_pca = df_train.drop(treatment_cols + tumor_cols, axis=1)\n",
    "print(df_train_pca.shape,df_train_pca.dtypes.unique())\n",
    "#72545 cols"
   ]
  },
  {
   "cell_type": "code",
   "execution_count": null,
   "id": "9f3f0dc6",
   "metadata": {},
   "outputs": [],
   "source": [
    "## StandardScaling and Fitting\n",
    "\n",
    "scaler = StandardScaler()\n",
    "scaler.fit(df_train_pca)"
   ]
  },
  {
   "cell_type": "code",
   "execution_count": null,
   "id": "732af4bf",
   "metadata": {},
   "outputs": [],
   "source": [
    "## Scaler Transformation\n",
    "\n",
    "df_train_pca_scaled = scaler.transform(df_train_pca)"
   ]
  },
  {
   "cell_type": "code",
   "execution_count": null,
   "id": "4df2d271",
   "metadata": {},
   "outputs": [],
   "source": [
    "## PCA initialization and fitting\n",
    "\n",
    "n_components = 200\n",
    "pca = PCA(n_components=n_components)\n",
    "pca.fit(df_train_pca_scaled)"
   ]
  },
  {
   "cell_type": "markdown",
   "id": "fa854baa",
   "metadata": {},
   "source": [
    "# Split Data into 4 Sets (for each Tu-Tr-pair)"
   ]
  },
  {
   "cell_type": "code",
   "execution_count": null,
   "id": "8054e580",
   "metadata": {},
   "outputs": [],
   "source": [
    "df_meta_grouped = df_meta.groupby(['Tumor', 'Treatment'])"
   ]
  },
  {
   "cell_type": "code",
   "execution_count": null,
   "id": "bda48db6",
   "metadata": {},
   "outputs": [],
   "source": [
    "dict(tuple(df_meta_grouped)).keys()"
   ]
  },
  {
   "cell_type": "code",
   "execution_count": null,
   "id": "15a6ee16",
   "metadata": {},
   "outputs": [],
   "source": [
    "split_idx  = {part: [] for part in range(4)}"
   ]
  },
  {
   "cell_type": "code",
   "execution_count": null,
   "id": "a5556fd5",
   "metadata": {},
   "outputs": [],
   "source": [
    "dict(tuple(df_meta_grouped))[('BRCA', 'BGJ398')]"
   ]
  },
  {
   "cell_type": "code",
   "execution_count": null,
   "id": "8a4aa539",
   "metadata": {},
   "outputs": [],
   "source": [
    "for _, group in df_meta_grouped:\n",
    "   \n",
    "    shuffled_group = group.sample(frac=1, random_state=100) \n",
    "    split_sizes = np.array_split(shuffled_group, 4)\n",
    "    \n",
    "    for part, split_data in enumerate(split_sizes):\n",
    "        split_idx[part].append(split_data.index)"
   ]
  },
  {
   "cell_type": "code",
   "execution_count": null,
   "id": "746b83c9",
   "metadata": {},
   "outputs": [],
   "source": [
    "for part in range(4):\n",
    "    \n",
    "    # df_meta\n",
    "    meta_indices = pd.Index(np.concatenate(split_idx[part]))\n",
    "    X_meta = df_meta.loc[meta_indices]\n",
    "    X_meta.to_csv(f'df_meta_{part+1}.csv', index=True)\n",
    "    \n",
    "    #y_values\n",
    "    df_y = pd.DataFrame(X_meta['BestResCatCalc'])\n",
    "    df_y.to_csv(f'df_y_{part+1}.csv', index=True)\n",
    "    \n",
    "    # df_train\n",
    "    train_indices = pd.Index(np.concatenate(split_idx[part]))\n",
    "    X_train = df_train.loc[train_indices]\n",
    "    X_train.to_csv(f'df_train_{part+1}.csv', index=True)\n",
    "    \n",
    "    # df_train_pca_preprocessing\n",
    "    treatment_cols = [col for col in X_train.columns if col.startswith('Tr_')]\n",
    "    tumor_cols = [col for col in X_train.columns if col.startswith('Tumor_')]\n",
    "    X_train_pca_in = X_train.drop(treatment_cols + tumor_cols, axis=1)\n",
    "    X_train_pca_in.to_csv(f'df_train_{part+1}_pca_in.csv', index=True)\n",
    "    \n",
    "    # df_train_ss_transform\n",
    "    X_train_sc = pd.DataFrame(scaler.transform(X_train_pca_in), columns=X_train_pca_in.columns, index=train_indices)\n",
    "    X_train_sc.to_csv(f'df_train_{part+1}_pca_in_scaled.csv',index=True)\n",
    "                      \n",
    "    # df_train_pca_transform\n",
    "    X_train_pca_out = pca.transform(X_train_sc)\n",
    "    X_train_pca_out_df = pd.DataFrame(X_train_pca_out, columns=[f'PC {i+1}' for i in range(n_components)],index=train_indices)\n",
    "    X_train_pca_out_df.to_csv(f'df_pca200_{part+1}.csv',index=True)\n",
    "                           \n",
    "    # df_train_tutr_features\n",
    "    X_train_tutr = X_train[treatment_cols + tumor_cols]\n",
    "    X_train_tutr.to_csv(f'df_tutr_{part+1}.csv',index=True)\n",
    "                        \n",
    "    print(X_meta.shape, X_train.shape)"
   ]
  },
  {
   "cell_type": "raw",
   "id": "adb2f016",
   "metadata": {},
   "source": [
    "(504, 4) (504, 72569)\n",
    "(493, 4) (493, 72569)\n",
    "(475, 4) (475, 72569)\n",
    "(466, 4) (466, 72569)"
   ]
  },
  {
   "cell_type": "code",
   "execution_count": null,
   "id": "a3da1d49",
   "metadata": {},
   "outputs": [],
   "source": [
    "504+493+475+466"
   ]
  },
  {
   "cell_type": "code",
   "execution_count": null,
   "id": "e5a25e8e",
   "metadata": {},
   "outputs": [],
   "source": [
    "# Save split indices\n",
    "\n",
    "for part in range(4):\n",
    "    combined_indices = np.concatenate(split_idx[part])\n",
    "    indices_df = pd.DataFrame(combined_indices, columns=['Index'])\n",
    "    indices_df.to_csv(f'split_indices_{part+1}.csv', index=False)"
   ]
  },
  {
   "cell_type": "code",
   "execution_count": null,
   "id": "0aa83487",
   "metadata": {},
   "outputs": [],
   "source": []
  }
 ],
 "metadata": {
  "kernelspec": {
   "display_name": "Python 3",
   "language": "python",
   "name": "python3"
  },
  "language_info": {
   "codemirror_mode": {
    "name": "ipython",
    "version": 3
   },
   "file_extension": ".py",
   "mimetype": "text/x-python",
   "name": "python",
   "nbconvert_exporter": "python",
   "pygments_lexer": "ipython3",
   "version": "3.8.8"
  }
 },
 "nbformat": 4,
 "nbformat_minor": 5
}
